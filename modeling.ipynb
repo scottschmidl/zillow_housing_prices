{
 "cells": [
  {
   "cell_type": "code",
   "execution_count": 6,
   "metadata": {},
   "outputs": [
    {
     "data": {
      "text/html": [
       "<div>\n",
       "<style scoped>\n",
       "    .dataframe tbody tr th:only-of-type {\n",
       "        vertical-align: middle;\n",
       "    }\n",
       "\n",
       "    .dataframe tbody tr th {\n",
       "        vertical-align: top;\n",
       "    }\n",
       "\n",
       "    .dataframe thead th {\n",
       "        text-align: right;\n",
       "    }\n",
       "</style>\n",
       "<table border=\"1\" class=\"dataframe\">\n",
       "  <thead>\n",
       "    <tr style=\"text-align: right;\">\n",
       "      <th></th>\n",
       "      <th>bedrooms</th>\n",
       "      <th>bathrooms</th>\n",
       "      <th>square_feet</th>\n",
       "      <th>home_tax_value</th>\n",
       "      <th>year_built</th>\n",
       "      <th>fips</th>\n",
       "      <th>county</th>\n",
       "    </tr>\n",
       "  </thead>\n",
       "  <tbody>\n",
       "    <tr>\n",
       "      <th>24082</th>\n",
       "      <td>3.0</td>\n",
       "      <td>2.0</td>\n",
       "      <td>1040.0</td>\n",
       "      <td>315000.0</td>\n",
       "      <td>1971.0</td>\n",
       "      <td>6037.0</td>\n",
       "      <td>Los Angeles</td>\n",
       "    </tr>\n",
       "    <tr>\n",
       "      <th>9432</th>\n",
       "      <td>4.0</td>\n",
       "      <td>1.0</td>\n",
       "      <td>1354.0</td>\n",
       "      <td>51513.0</td>\n",
       "      <td>1947.0</td>\n",
       "      <td>6037.0</td>\n",
       "      <td>Los Angeles</td>\n",
       "    </tr>\n",
       "    <tr>\n",
       "      <th>50142</th>\n",
       "      <td>3.0</td>\n",
       "      <td>1.0</td>\n",
       "      <td>1180.0</td>\n",
       "      <td>64709.0</td>\n",
       "      <td>1949.0</td>\n",
       "      <td>6037.0</td>\n",
       "      <td>Los Angeles</td>\n",
       "    </tr>\n",
       "    <tr>\n",
       "      <th>38310</th>\n",
       "      <td>3.0</td>\n",
       "      <td>2.0</td>\n",
       "      <td>1922.0</td>\n",
       "      <td>218663.0</td>\n",
       "      <td>1952.0</td>\n",
       "      <td>6037.0</td>\n",
       "      <td>Los Angeles</td>\n",
       "    </tr>\n",
       "    <tr>\n",
       "      <th>7652</th>\n",
       "      <td>4.0</td>\n",
       "      <td>4.0</td>\n",
       "      <td>3710.0</td>\n",
       "      <td>1700000.0</td>\n",
       "      <td>1987.0</td>\n",
       "      <td>6037.0</td>\n",
       "      <td>Los Angeles</td>\n",
       "    </tr>\n",
       "  </tbody>\n",
       "</table>\n",
       "</div>"
      ],
      "text/plain": [
       "       bedrooms  bathrooms  square_feet  home_tax_value  year_built    fips  \\\n",
       "24082       3.0        2.0       1040.0        315000.0      1971.0  6037.0   \n",
       "9432        4.0        1.0       1354.0         51513.0      1947.0  6037.0   \n",
       "50142       3.0        1.0       1180.0         64709.0      1949.0  6037.0   \n",
       "38310       3.0        2.0       1922.0        218663.0      1952.0  6037.0   \n",
       "7652        4.0        4.0       3710.0       1700000.0      1987.0  6037.0   \n",
       "\n",
       "            county  \n",
       "24082  Los Angeles  \n",
       "9432   Los Angeles  \n",
       "50142  Los Angeles  \n",
       "38310  Los Angeles  \n",
       "7652   Los Angeles  "
      ]
     },
     "execution_count": 6,
     "metadata": {},
     "output_type": "execute_result"
    }
   ],
   "source": [
    "from sklearn.metrics import mean_squared_error\n",
    "from sklearn.linear_model import LinearRegression, LassoLars, TweedieRegressor\n",
    "from sklearn.preprocessing import PolynomialFeatures\n",
    "from sklearn.model_selection import GridSearchCV\n",
    "from wrangle import Wrangle\n",
    "from prepare import Prepare\n",
    "import pandas as pd\n",
    "import numpy as np\n",
    "from scipy import stats\n",
    "train, val, test = Wrangle().wrangle_zillow()\n",
    "train.head()"
   ]
  },
  {
   "cell_type": "code",
   "execution_count": 7,
   "metadata": {},
   "outputs": [
    {
     "data": {
      "text/html": [
       "<div>\n",
       "<style scoped>\n",
       "    .dataframe tbody tr th:only-of-type {\n",
       "        vertical-align: middle;\n",
       "    }\n",
       "\n",
       "    .dataframe tbody tr th {\n",
       "        vertical-align: top;\n",
       "    }\n",
       "\n",
       "    .dataframe thead th {\n",
       "        text-align: right;\n",
       "    }\n",
       "</style>\n",
       "<table border=\"1\" class=\"dataframe\">\n",
       "  <thead>\n",
       "    <tr style=\"text-align: right;\">\n",
       "      <th></th>\n",
       "      <th>bedrooms</th>\n",
       "      <th>bathrooms</th>\n",
       "      <th>square_feet</th>\n",
       "    </tr>\n",
       "  </thead>\n",
       "  <tbody>\n",
       "    <tr>\n",
       "      <th>24082</th>\n",
       "      <td>3.0</td>\n",
       "      <td>2.0</td>\n",
       "      <td>1040.0</td>\n",
       "    </tr>\n",
       "    <tr>\n",
       "      <th>9432</th>\n",
       "      <td>4.0</td>\n",
       "      <td>1.0</td>\n",
       "      <td>1354.0</td>\n",
       "    </tr>\n",
       "    <tr>\n",
       "      <th>50142</th>\n",
       "      <td>3.0</td>\n",
       "      <td>1.0</td>\n",
       "      <td>1180.0</td>\n",
       "    </tr>\n",
       "    <tr>\n",
       "      <th>38310</th>\n",
       "      <td>3.0</td>\n",
       "      <td>2.0</td>\n",
       "      <td>1922.0</td>\n",
       "    </tr>\n",
       "    <tr>\n",
       "      <th>7652</th>\n",
       "      <td>4.0</td>\n",
       "      <td>4.0</td>\n",
       "      <td>3710.0</td>\n",
       "    </tr>\n",
       "  </tbody>\n",
       "</table>\n",
       "</div>"
      ],
      "text/plain": [
       "       bedrooms  bathrooms  square_feet\n",
       "24082       3.0        2.0       1040.0\n",
       "9432        4.0        1.0       1354.0\n",
       "50142       3.0        1.0       1180.0\n",
       "38310       3.0        2.0       1922.0\n",
       "7652        4.0        4.0       3710.0"
      ]
     },
     "execution_count": 7,
     "metadata": {},
     "output_type": "execute_result"
    }
   ],
   "source": [
    "p = Prepare()\n",
    "(X_train, y_train), (X_val, y_val), (X_test, y_test) = p.get_Xy(train, val, test)\n",
    "X_train.head()"
   ]
  },
  {
   "cell_type": "code",
   "execution_count": 8,
   "metadata": {},
   "outputs": [
    {
     "data": {
      "text/html": [
       "<div>\n",
       "<style scoped>\n",
       "    .dataframe tbody tr th:only-of-type {\n",
       "        vertical-align: middle;\n",
       "    }\n",
       "\n",
       "    .dataframe tbody tr th {\n",
       "        vertical-align: top;\n",
       "    }\n",
       "\n",
       "    .dataframe thead th {\n",
       "        text-align: right;\n",
       "    }\n",
       "</style>\n",
       "<table border=\"1\" class=\"dataframe\">\n",
       "  <thead>\n",
       "    <tr style=\"text-align: right;\">\n",
       "      <th></th>\n",
       "      <th>bedrooms</th>\n",
       "      <th>bathrooms</th>\n",
       "      <th>square_feet</th>\n",
       "    </tr>\n",
       "  </thead>\n",
       "  <tbody>\n",
       "    <tr>\n",
       "      <th>0</th>\n",
       "      <td>-0.304758</td>\n",
       "      <td>-0.258425</td>\n",
       "      <td>-1.018840</td>\n",
       "    </tr>\n",
       "    <tr>\n",
       "      <th>1</th>\n",
       "      <td>0.830145</td>\n",
       "      <td>-1.417729</td>\n",
       "      <td>-0.614800</td>\n",
       "    </tr>\n",
       "    <tr>\n",
       "      <th>2</th>\n",
       "      <td>-0.304758</td>\n",
       "      <td>-1.417729</td>\n",
       "      <td>-0.838695</td>\n",
       "    </tr>\n",
       "    <tr>\n",
       "      <th>3</th>\n",
       "      <td>-0.304758</td>\n",
       "      <td>-0.258425</td>\n",
       "      <td>0.116074</td>\n",
       "    </tr>\n",
       "    <tr>\n",
       "      <th>4</th>\n",
       "      <td>0.830145</td>\n",
       "      <td>2.060183</td>\n",
       "      <td>2.416785</td>\n",
       "    </tr>\n",
       "  </tbody>\n",
       "</table>\n",
       "</div>"
      ],
      "text/plain": [
       "   bedrooms  bathrooms  square_feet\n",
       "0 -0.304758  -0.258425    -1.018840\n",
       "1  0.830145  -1.417729    -0.614800\n",
       "2 -0.304758  -1.417729    -0.838695\n",
       "3 -0.304758  -0.258425     0.116074\n",
       "4  0.830145   2.060183     2.416785"
      ]
     },
     "execution_count": 8,
     "metadata": {},
     "output_type": "execute_result"
    }
   ],
   "source": [
    "X_train_scaled, X_val_scaled, X_test_scaled, _ = p.scaling(X_train, X_val, X_test)\n",
    "X_train_scaled.head()"
   ]
  },
  {
   "cell_type": "code",
   "execution_count": 11,
   "metadata": {},
   "outputs": [
    {
     "data": {
      "text/html": [
       "<div>\n",
       "<style scoped>\n",
       "    .dataframe tbody tr th:only-of-type {\n",
       "        vertical-align: middle;\n",
       "    }\n",
       "\n",
       "    .dataframe tbody tr th {\n",
       "        vertical-align: top;\n",
       "    }\n",
       "\n",
       "    .dataframe thead th {\n",
       "        text-align: right;\n",
       "    }\n",
       "</style>\n",
       "<table border=\"1\" class=\"dataframe\">\n",
       "  <thead>\n",
       "    <tr style=\"text-align: right;\">\n",
       "      <th></th>\n",
       "      <th>actual</th>\n",
       "    </tr>\n",
       "  </thead>\n",
       "  <tbody>\n",
       "    <tr>\n",
       "      <th>24082</th>\n",
       "      <td>315000.0</td>\n",
       "    </tr>\n",
       "    <tr>\n",
       "      <th>9432</th>\n",
       "      <td>51513.0</td>\n",
       "    </tr>\n",
       "    <tr>\n",
       "      <th>50142</th>\n",
       "      <td>64709.0</td>\n",
       "    </tr>\n",
       "    <tr>\n",
       "      <th>38310</th>\n",
       "      <td>218663.0</td>\n",
       "    </tr>\n",
       "    <tr>\n",
       "      <th>7652</th>\n",
       "      <td>1700000.0</td>\n",
       "    </tr>\n",
       "    <tr>\n",
       "      <th>...</th>\n",
       "      <td>...</td>\n",
       "    </tr>\n",
       "    <tr>\n",
       "      <th>8132</th>\n",
       "      <td>512700.0</td>\n",
       "    </tr>\n",
       "    <tr>\n",
       "      <th>40424</th>\n",
       "      <td>252760.0</td>\n",
       "    </tr>\n",
       "    <tr>\n",
       "      <th>10848</th>\n",
       "      <td>530114.0</td>\n",
       "    </tr>\n",
       "    <tr>\n",
       "      <th>21149</th>\n",
       "      <td>199838.0</td>\n",
       "    </tr>\n",
       "    <tr>\n",
       "      <th>28075</th>\n",
       "      <td>468872.0</td>\n",
       "    </tr>\n",
       "  </tbody>\n",
       "</table>\n",
       "<p>32443 rows × 1 columns</p>\n",
       "</div>"
      ],
      "text/plain": [
       "          actual\n",
       "24082   315000.0\n",
       "9432     51513.0\n",
       "50142    64709.0\n",
       "38310   218663.0\n",
       "7652   1700000.0\n",
       "...          ...\n",
       "8132    512700.0\n",
       "40424   252760.0\n",
       "10848   530114.0\n",
       "21149   199838.0\n",
       "28075   468872.0\n",
       "\n",
       "[32443 rows x 1 columns]"
      ]
     },
     "execution_count": 11,
     "metadata": {},
     "output_type": "execute_result"
    }
   ],
   "source": [
    "act_pred_res = pd.DataFrame({\"actual\": y_train})\n",
    "act_pred_res"
   ]
  },
  {
   "cell_type": "code",
   "execution_count": 9,
   "metadata": {},
   "outputs": [
    {
     "data": {
      "text/plain": [
       "455123.24122306815"
      ]
     },
     "execution_count": 9,
     "metadata": {},
     "output_type": "execute_result"
    }
   ],
   "source": [
    "baseline_pred = train[\"home_tax_value\"].mean()\n",
    "baseline_pred"
   ]
  },
  {
   "cell_type": "code",
   "execution_count": 12,
   "metadata": {},
   "outputs": [
    {
     "data": {
      "text/html": [
       "<div>\n",
       "<style scoped>\n",
       "    .dataframe tbody tr th:only-of-type {\n",
       "        vertical-align: middle;\n",
       "    }\n",
       "\n",
       "    .dataframe tbody tr th {\n",
       "        vertical-align: top;\n",
       "    }\n",
       "\n",
       "    .dataframe thead th {\n",
       "        text-align: right;\n",
       "    }\n",
       "</style>\n",
       "<table border=\"1\" class=\"dataframe\">\n",
       "  <thead>\n",
       "    <tr style=\"text-align: right;\">\n",
       "      <th></th>\n",
       "      <th>actual</th>\n",
       "      <th>baseline_prediction</th>\n",
       "    </tr>\n",
       "  </thead>\n",
       "  <tbody>\n",
       "    <tr>\n",
       "      <th>24082</th>\n",
       "      <td>315000.0</td>\n",
       "      <td>455123.241223</td>\n",
       "    </tr>\n",
       "    <tr>\n",
       "      <th>9432</th>\n",
       "      <td>51513.0</td>\n",
       "      <td>455123.241223</td>\n",
       "    </tr>\n",
       "    <tr>\n",
       "      <th>50142</th>\n",
       "      <td>64709.0</td>\n",
       "      <td>455123.241223</td>\n",
       "    </tr>\n",
       "    <tr>\n",
       "      <th>38310</th>\n",
       "      <td>218663.0</td>\n",
       "      <td>455123.241223</td>\n",
       "    </tr>\n",
       "    <tr>\n",
       "      <th>7652</th>\n",
       "      <td>1700000.0</td>\n",
       "      <td>455123.241223</td>\n",
       "    </tr>\n",
       "    <tr>\n",
       "      <th>...</th>\n",
       "      <td>...</td>\n",
       "      <td>...</td>\n",
       "    </tr>\n",
       "    <tr>\n",
       "      <th>8132</th>\n",
       "      <td>512700.0</td>\n",
       "      <td>455123.241223</td>\n",
       "    </tr>\n",
       "    <tr>\n",
       "      <th>40424</th>\n",
       "      <td>252760.0</td>\n",
       "      <td>455123.241223</td>\n",
       "    </tr>\n",
       "    <tr>\n",
       "      <th>10848</th>\n",
       "      <td>530114.0</td>\n",
       "      <td>455123.241223</td>\n",
       "    </tr>\n",
       "    <tr>\n",
       "      <th>21149</th>\n",
       "      <td>199838.0</td>\n",
       "      <td>455123.241223</td>\n",
       "    </tr>\n",
       "    <tr>\n",
       "      <th>28075</th>\n",
       "      <td>468872.0</td>\n",
       "      <td>455123.241223</td>\n",
       "    </tr>\n",
       "  </tbody>\n",
       "</table>\n",
       "<p>32443 rows × 2 columns</p>\n",
       "</div>"
      ],
      "text/plain": [
       "          actual  baseline_prediction\n",
       "24082   315000.0        455123.241223\n",
       "9432     51513.0        455123.241223\n",
       "50142    64709.0        455123.241223\n",
       "38310   218663.0        455123.241223\n",
       "7652   1700000.0        455123.241223\n",
       "...          ...                  ...\n",
       "8132    512700.0        455123.241223\n",
       "40424   252760.0        455123.241223\n",
       "10848   530114.0        455123.241223\n",
       "21149   199838.0        455123.241223\n",
       "28075   468872.0        455123.241223\n",
       "\n",
       "[32443 rows x 2 columns]"
      ]
     },
     "execution_count": 12,
     "metadata": {},
     "output_type": "execute_result"
    }
   ],
   "source": [
    "act_pred_res[\"baseline_prediction\"] = baseline_pred\n",
    "act_pred_res"
   ]
  },
  {
   "cell_type": "code",
   "execution_count": 14,
   "metadata": {},
   "outputs": [
    {
     "data": {
      "text/plain": [
       "386069.73075485"
      ]
     },
     "execution_count": 14,
     "metadata": {},
     "output_type": "execute_result"
    }
   ],
   "source": [
    "baseline_rmse = mean_squared_error(train[\"home_tax_value\"], act_pred_res[\"baseline_prediction\"] , squared=False)\n",
    "baseline_rmse"
   ]
  },
  {
   "cell_type": "markdown",
   "metadata": {},
   "source": [
    "### Baseline RMSE is 386069.73"
   ]
  },
  {
   "cell_type": "code",
   "execution_count": 10,
   "metadata": {},
   "outputs": [],
   "source": [
    "def grid_search(X, y, model, params_dic):\n",
    "    grid = GridSearchCV(model, params_dic, n_jobs=-1)\n",
    "    return grid.fit(X, y)"
   ]
  },
  {
   "cell_type": "code",
   "execution_count": 22,
   "metadata": {},
   "outputs": [],
   "source": [
    "# lasso_grid = {\"alpha\": [0.01, 0.1, 0.25, 0.5, 0.75, 1.0]}\n",
    "# tweedie_grid = {\"power\": [0, 1, 2, 3], \"alpha\": [0.01, 0.1, 0.25, 0.5, 0.75, 1.0]}\n",
    "# models = [LassoLars(random_state=123, normalize=False), TweedieRegressor()]\n",
    "\n",
    "# lasso = grid_search(X_train_scaled, y_train, models[0], lasso_grid)\n",
    "# tweddie = grid_search(X_train_scaled, y_train, models[1], tweedie_grid)"
   ]
  },
  {
   "cell_type": "code",
   "execution_count": 23,
   "metadata": {},
   "outputs": [
    {
     "data": {
      "text/plain": [
       "LassoLars(normalize=False, random_state=123)"
      ]
     },
     "execution_count": 23,
     "metadata": {},
     "output_type": "execute_result"
    }
   ],
   "source": [
    "lasso.best_estimator_\n"
   ]
  },
  {
   "cell_type": "code",
   "execution_count": 24,
   "metadata": {},
   "outputs": [
    {
     "data": {
      "text/plain": [
       "{'alpha': 1.0}"
      ]
     },
     "execution_count": 24,
     "metadata": {},
     "output_type": "execute_result"
    }
   ],
   "source": [
    "lasso.best_params_"
   ]
  },
  {
   "cell_type": "code",
   "execution_count": 25,
   "metadata": {},
   "outputs": [
    {
     "data": {
      "text/plain": [
       "TweedieRegressor(power=1)"
      ]
     },
     "execution_count": 25,
     "metadata": {},
     "output_type": "execute_result"
    }
   ],
   "source": [
    "tweddie.best_estimator_"
   ]
  },
  {
   "cell_type": "code",
   "execution_count": 26,
   "metadata": {},
   "outputs": [
    {
     "data": {
      "text/plain": [
       "{'alpha': 1.0, 'power': 1}"
      ]
     },
     "execution_count": 26,
     "metadata": {},
     "output_type": "execute_result"
    }
   ],
   "source": [
    "tweddie.best_params_"
   ]
  },
  {
   "cell_type": "code",
   "execution_count": 33,
   "metadata": {},
   "outputs": [],
   "source": [
    "lasso = LassoLars(alpha=1.0, normalize=False).fit(X_train_scaled, y_train)\n",
    "tweedie = TweedieRegressor(power=1, alpha=1.0).fit(X_train_scaled, y_train)\n",
    "lr = LinearRegression().fit(X_train_scaled, y_train)"
   ]
  },
  {
   "cell_type": "code",
   "execution_count": 34,
   "metadata": {},
   "outputs": [],
   "source": [
    "lass_pred_train = lasso.predict(X_train_scaled)\n",
    "tweed_pred_train = tweedie.predict(X_train_scaled)\n",
    "lr_pred_train = lr.predict(X_train_scaled)\n"
   ]
  },
  {
   "cell_type": "code",
   "execution_count": 38,
   "metadata": {},
   "outputs": [
    {
     "data": {
      "text/plain": [
       "(319198.00647314545, 318897.305862654, 318897.30585312896)"
      ]
     },
     "execution_count": 38,
     "metadata": {},
     "output_type": "execute_result"
    }
   ],
   "source": [
    "mean_squared_error(y_train, tweed_pred_train, squared=False), mean_squared_error(y_train, lass_pred_train, squared=False), mean_squared_error(y_train, lr_pred_train, squared=False)"
   ]
  },
  {
   "cell_type": "code",
   "execution_count": 39,
   "metadata": {},
   "outputs": [],
   "source": [
    "lass_pred_val = lasso.predict(X_val_scaled)\n",
    "tweed_pred_val = tweedie.predict(X_val_scaled)\n",
    "lr_pred_val = lr.predict(X_val_scaled)\n"
   ]
  },
  {
   "cell_type": "code",
   "execution_count": 41,
   "metadata": {},
   "outputs": [
    {
     "data": {
      "text/plain": [
       "(318701.7141916137, 318602.79952656466, 318602.77199369104)"
      ]
     },
     "execution_count": 41,
     "metadata": {},
     "output_type": "execute_result"
    }
   ],
   "source": [
    "mean_squared_error(y_val, tweed_pred_val, squared=False), mean_squared_error(y_val, lass_pred_val, squared=False), mean_squared_error(y_val, lr_pred_val, squared=False)"
   ]
  },
  {
   "cell_type": "code",
   "execution_count": 42,
   "metadata": {},
   "outputs": [
    {
     "data": {
      "text/plain": [
       "(496.2922815317288, 294.50633608934004, 294.53385943791363)"
      ]
     },
     "execution_count": 42,
     "metadata": {},
     "output_type": "execute_result"
    }
   ],
   "source": [
    "mean_squared_error(y_train, tweed_pred_train, squared=False) - mean_squared_error(y_val, tweed_pred_val, squared=False), mean_squared_error(y_train, lass_pred_train, squared=False) - mean_squared_error(y_val, lass_pred_val, squared=False), mean_squared_error(y_train, lr_pred_train, squared=False) -  mean_squared_error(y_val, lr_pred_val, squared=False)"
   ]
  },
  {
   "cell_type": "markdown",
   "metadata": {},
   "source": [
    "### TEST"
   ]
  },
  {
   "cell_type": "code",
   "execution_count": 44,
   "metadata": {},
   "outputs": [
    {
     "data": {
      "text/plain": [
       "315397.4604281871"
      ]
     },
     "execution_count": 44,
     "metadata": {},
     "output_type": "execute_result"
    }
   ],
   "source": [
    "tweed_pred_test = tweedie.predict(X_test_scaled)\n",
    "mean_squared_error(y_test, tweed_pred_test, squared=False)"
   ]
  },
  {
   "cell_type": "markdown",
   "metadata": {},
   "source": [
    "### residual df"
   ]
  },
  {
   "cell_type": "code",
   "execution_count": 48,
   "metadata": {},
   "outputs": [
    {
     "data": {
      "text/html": [
       "<div>\n",
       "<style scoped>\n",
       "    .dataframe tbody tr th:only-of-type {\n",
       "        vertical-align: middle;\n",
       "    }\n",
       "\n",
       "    .dataframe tbody tr th {\n",
       "        vertical-align: top;\n",
       "    }\n",
       "\n",
       "    .dataframe thead th {\n",
       "        text-align: right;\n",
       "    }\n",
       "</style>\n",
       "<table border=\"1\" class=\"dataframe\">\n",
       "  <thead>\n",
       "    <tr style=\"text-align: right;\">\n",
       "      <th></th>\n",
       "      <th>actual</th>\n",
       "      <th>baseline_prediction</th>\n",
       "      <th>baseline_residuals</th>\n",
       "      <th>tweed_pred_train</th>\n",
       "      <th>tweed_pred_train_residuals</th>\n",
       "      <th>lass_pred_train</th>\n",
       "      <th>lass_pred_train_residuals</th>\n",
       "      <th>lr_pred_train</th>\n",
       "      <th>lr_pred_train_residuals</th>\n",
       "    </tr>\n",
       "  </thead>\n",
       "  <tbody>\n",
       "    <tr>\n",
       "      <th>24082</th>\n",
       "      <td>315000.0</td>\n",
       "      <td>455123.241223</td>\n",
       "      <td>-1.401232e+05</td>\n",
       "      <td>2.959147e+05</td>\n",
       "      <td>19085.329213</td>\n",
       "      <td>2.469432e+05</td>\n",
       "      <td>68056.832575</td>\n",
       "      <td>2.469420e+05</td>\n",
       "      <td>68058.009977</td>\n",
       "    </tr>\n",
       "    <tr>\n",
       "      <th>9432</th>\n",
       "      <td>51513.0</td>\n",
       "      <td>455123.241223</td>\n",
       "      <td>-4.036102e+05</td>\n",
       "      <td>2.575053e+05</td>\n",
       "      <td>-205992.255087</td>\n",
       "      <td>1.902083e+05</td>\n",
       "      <td>-138695.296002</td>\n",
       "      <td>1.902028e+05</td>\n",
       "      <td>-138689.759927</td>\n",
       "    </tr>\n",
       "    <tr>\n",
       "      <th>50142</th>\n",
       "      <td>64709.0</td>\n",
       "      <td>455123.241223</td>\n",
       "      <td>-3.904142e+05</td>\n",
       "      <td>2.723056e+05</td>\n",
       "      <td>-207596.617520</td>\n",
       "      <td>2.248293e+05</td>\n",
       "      <td>-160120.272865</td>\n",
       "      <td>2.248267e+05</td>\n",
       "      <td>-160117.714022</td>\n",
       "    </tr>\n",
       "    <tr>\n",
       "      <th>38310</th>\n",
       "      <td>218663.0</td>\n",
       "      <td>455123.241223</td>\n",
       "      <td>-2.364602e+05</td>\n",
       "      <td>4.361445e+05</td>\n",
       "      <td>-217481.530767</td>\n",
       "      <td>4.884382e+05</td>\n",
       "      <td>-269775.185462</td>\n",
       "      <td>4.884389e+05</td>\n",
       "      <td>-269775.904301</td>\n",
       "    </tr>\n",
       "    <tr>\n",
       "      <th>7652</th>\n",
       "      <td>1700000.0</td>\n",
       "      <td>455123.241223</td>\n",
       "      <td>1.244877e+06</td>\n",
       "      <td>1.120309e+06</td>\n",
       "      <td>579690.879027</td>\n",
       "      <td>1.016630e+06</td>\n",
       "      <td>683370.462416</td>\n",
       "      <td>1.016634e+06</td>\n",
       "      <td>683365.885950</td>\n",
       "    </tr>\n",
       "    <tr>\n",
       "      <th>...</th>\n",
       "      <td>...</td>\n",
       "      <td>...</td>\n",
       "      <td>...</td>\n",
       "      <td>...</td>\n",
       "      <td>...</td>\n",
       "      <td>...</td>\n",
       "      <td>...</td>\n",
       "      <td>...</td>\n",
       "      <td>...</td>\n",
       "    </tr>\n",
       "    <tr>\n",
       "      <th>8132</th>\n",
       "      <td>512700.0</td>\n",
       "      <td>455123.241223</td>\n",
       "      <td>5.757676e+04</td>\n",
       "      <td>4.025947e+05</td>\n",
       "      <td>110105.319926</td>\n",
       "      <td>4.386059e+05</td>\n",
       "      <td>74094.119848</td>\n",
       "      <td>4.386062e+05</td>\n",
       "      <td>74093.792296</td>\n",
       "    </tr>\n",
       "    <tr>\n",
       "      <th>40424</th>\n",
       "      <td>252760.0</td>\n",
       "      <td>455123.241223</td>\n",
       "      <td>-2.023632e+05</td>\n",
       "      <td>5.485675e+05</td>\n",
       "      <td>-295807.519173</td>\n",
       "      <td>6.165615e+05</td>\n",
       "      <td>-363801.502809</td>\n",
       "      <td>6.165611e+05</td>\n",
       "      <td>-363801.126201</td>\n",
       "    </tr>\n",
       "    <tr>\n",
       "      <th>10848</th>\n",
       "      <td>530114.0</td>\n",
       "      <td>455123.241223</td>\n",
       "      <td>7.499076e+04</td>\n",
       "      <td>4.842715e+05</td>\n",
       "      <td>45842.453598</td>\n",
       "      <td>5.536035e+05</td>\n",
       "      <td>-23489.507789</td>\n",
       "      <td>5.536047e+05</td>\n",
       "      <td>-23490.738313</td>\n",
       "    </tr>\n",
       "    <tr>\n",
       "      <th>21149</th>\n",
       "      <td>199838.0</td>\n",
       "      <td>455123.241223</td>\n",
       "      <td>-2.552852e+05</td>\n",
       "      <td>2.853669e+05</td>\n",
       "      <td>-85528.885375</td>\n",
       "      <td>2.391719e+05</td>\n",
       "      <td>-39333.866649</td>\n",
       "      <td>2.391700e+05</td>\n",
       "      <td>-39332.024325</td>\n",
       "    </tr>\n",
       "    <tr>\n",
       "      <th>28075</th>\n",
       "      <td>468872.0</td>\n",
       "      <td>455123.241223</td>\n",
       "      <td>1.374876e+04</td>\n",
       "      <td>3.701688e+05</td>\n",
       "      <td>98703.176319</td>\n",
       "      <td>3.861572e+05</td>\n",
       "      <td>82714.775338</td>\n",
       "      <td>3.861598e+05</td>\n",
       "      <td>82712.154234</td>\n",
       "    </tr>\n",
       "  </tbody>\n",
       "</table>\n",
       "<p>32443 rows × 9 columns</p>\n",
       "</div>"
      ],
      "text/plain": [
       "          actual  baseline_prediction  baseline_residuals  tweed_pred_train  \\\n",
       "24082   315000.0        455123.241223       -1.401232e+05      2.959147e+05   \n",
       "9432     51513.0        455123.241223       -4.036102e+05      2.575053e+05   \n",
       "50142    64709.0        455123.241223       -3.904142e+05      2.723056e+05   \n",
       "38310   218663.0        455123.241223       -2.364602e+05      4.361445e+05   \n",
       "7652   1700000.0        455123.241223        1.244877e+06      1.120309e+06   \n",
       "...          ...                  ...                 ...               ...   \n",
       "8132    512700.0        455123.241223        5.757676e+04      4.025947e+05   \n",
       "40424   252760.0        455123.241223       -2.023632e+05      5.485675e+05   \n",
       "10848   530114.0        455123.241223        7.499076e+04      4.842715e+05   \n",
       "21149   199838.0        455123.241223       -2.552852e+05      2.853669e+05   \n",
       "28075   468872.0        455123.241223        1.374876e+04      3.701688e+05   \n",
       "\n",
       "       tweed_pred_train_residuals  lass_pred_train  lass_pred_train_residuals  \\\n",
       "24082                19085.329213     2.469432e+05               68056.832575   \n",
       "9432               -205992.255087     1.902083e+05             -138695.296002   \n",
       "50142              -207596.617520     2.248293e+05             -160120.272865   \n",
       "38310              -217481.530767     4.884382e+05             -269775.185462   \n",
       "7652                579690.879027     1.016630e+06              683370.462416   \n",
       "...                           ...              ...                        ...   \n",
       "8132                110105.319926     4.386059e+05               74094.119848   \n",
       "40424              -295807.519173     6.165615e+05             -363801.502809   \n",
       "10848                45842.453598     5.536035e+05              -23489.507789   \n",
       "21149               -85528.885375     2.391719e+05              -39333.866649   \n",
       "28075                98703.176319     3.861572e+05               82714.775338   \n",
       "\n",
       "       lr_pred_train  lr_pred_train_residuals  \n",
       "24082   2.469420e+05             68058.009977  \n",
       "9432    1.902028e+05           -138689.759927  \n",
       "50142   2.248267e+05           -160117.714022  \n",
       "38310   4.884389e+05           -269775.904301  \n",
       "7652    1.016634e+06            683365.885950  \n",
       "...              ...                      ...  \n",
       "8132    4.386062e+05             74093.792296  \n",
       "40424   6.165611e+05           -363801.126201  \n",
       "10848   5.536047e+05            -23490.738313  \n",
       "21149   2.391700e+05            -39332.024325  \n",
       "28075   3.861598e+05             82712.154234  \n",
       "\n",
       "[32443 rows x 9 columns]"
      ]
     },
     "execution_count": 48,
     "metadata": {},
     "output_type": "execute_result"
    }
   ],
   "source": [
    "act_pred_res[\"baseline_residuals\"] = act_pred_res.actual - act_pred_res.baseline_prediction\n",
    "act_pred_res[\"tweed_pred_train\"] = tweed_pred_train\n",
    "act_pred_res[\"tweed_pred_train_residuals\"] = act_pred_res.actual - act_pred_res[\"tweed_pred_train\"]\n",
    "act_pred_res[\"lass_pred_train\"] = lass_pred_train\n",
    "act_pred_res[\"lass_pred_train_residuals\"] = act_pred_res.actual - act_pred_res[\"lass_pred_train\"]\n",
    "act_pred_res[\"lr_pred_train\"] = lr_pred_train\n",
    "act_pred_res[\"lr_pred_train_residuals\"] = act_pred_res.actual - act_pred_res[\"lr_pred_train\"]\n",
    "act_pred_res"
   ]
  },
  {
   "cell_type": "code",
   "execution_count": null,
   "metadata": {},
   "outputs": [],
   "source": []
  }
 ],
 "metadata": {
  "interpreter": {
   "hash": "40d3a090f54c6569ab1632332b64b2c03c39dcf918b08424e98f38b5ae0af88f"
  },
  "kernelspec": {
   "display_name": "Python 3.8.11 64-bit ('base': conda)",
   "language": "python",
   "name": "python3"
  },
  "language_info": {
   "codemirror_mode": {
    "name": "ipython",
    "version": 3
   },
   "file_extension": ".py",
   "mimetype": "text/x-python",
   "name": "python",
   "nbconvert_exporter": "python",
   "pygments_lexer": "ipython3",
   "version": "3.8.11"
  },
  "orig_nbformat": 4
 },
 "nbformat": 4,
 "nbformat_minor": 2
}
