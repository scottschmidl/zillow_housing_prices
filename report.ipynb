{
 "cells": [
  {
   "cell_type": "markdown",
   "metadata": {},
   "source": [
    "## Predicting Zillow\n",
    "By: Scott Schmidl, Data Scientist\n",
    "12/16/2021\n",
    "\n",
    "### Goal\n",
    "The goal of this project is to understand what affects the price of a house on Zillow and predict, within a range, the price of a house.\n",
    "\n",
    "### Description\n",
    "I want to predict housing prices as accuractely as possible to help sellers and buyers maximize their quality of life.\n",
    "\n",
    "### Initial Questions\n",
    "1) \n",
    "2) \n",
    "3) \n",
    "4) \n",
    "\n",
    "### Data Dictionary\n",
    "<table>\n",
    "<thead><tr>\n",
    "<th>Target</th>\n",
    "<th>Meaning</th>\n",
    "</tr>\n",
    "</thead>\n",
    "<tbody>\n",
    "<tr>\n",
    "<td>home_tax_value</td>\n",
    "<td>Home price</td>\n",
    "</tr>\n",
    "</tbody>\n",
    "</table>\n",
    "\n",
    "<table>\n",
    "<thead><tr>\n",
    "<th>Variable</th>\n",
    "<th>Meaning</th>\n",
    "</tr>\n",
    "</thead>\n",
    "<tbody>\n",
    "<tr>\n",
    "<td>bedrooms</td>\n",
    "<td>How many bedrooms are in a house</td>\n",
    "</tr>\n",
    "<tr>\n",
    "<td>bathrooms</td>\n",
    "<td>How many bathrooms are in a house</td>\n",
    "</tr>\n",
    "<tr>\n",
    "<td>square_feet</td>\n",
    "<td>Size of the house</td>\n",
    "</tr>\n",
    "<tr>\n",
    "<td>year_built</td>\n",
    "<td>Year in which the house was built</td>\n",
    "</tr>\n",
    "<tr>\n",
    "<td>fips</td>\n",
    "<td>County Code</td>\n",
    "</tr>\n",
    "<tr>\n",
    "<td>county</td>\n",
    "<td>County in which the house is located</td>\n",
    "</tr>\n",
    "</tbody>\n",
    "</table>\n",
    "\n",
    "### Wrangling Zillow\n",
    "- To wrangle the Zillow data, I used the Zillow database in our MySQL server, and selected `bedroomcnt`, `bathroomcnt`, `calculatedfinishedsquarefeet`, `taxvaluedollarcnt`, `yearbuilt`, `taxamount`, `fips` for single famiy residences\n",
    "- Please see wrangle.py for full query details\n",
    "- Columns were renamed for readability\n",
    "- The percentage of rows that had na's was small enough that I felt comfortable dropping the rows\n",
    "- Houses that had zero bathrooms were dropped\n",
    "- Houses with a size under 200 square feet were dropped\n",
    "- I handled outliers by removeing a property outside of three standard deviations\n",
    "- The `taxamount` column was dropped due to it being a potential for data leakage\n",
    "- A `county` column was created from the `fips` codes"
   ]
  },
  {
   "cell_type": "code",
   "execution_count": 1,
   "metadata": {},
   "outputs": [],
   "source": [
    "# import Wrangle module\n",
    "from wrangle import Wrangle\n",
    "\n",
    "# Instantiate Wrangle class and pull in data from csv or MySQL\n",
    "train, validate, test = Wrangle().wrangle_zillow()"
   ]
  },
  {
   "cell_type": "markdown",
   "metadata": {},
   "source": [
    "### Preparing Zillow\n",
    "To get my X and y sets:\n",
    "- Dropped the following columns: `home_tax_value`, `fips`, `year_built`, `county`\n",
    "- Scaled the data by fitting on the X training set only and transforming all three X datasets"
   ]
  },
  {
   "cell_type": "code",
   "execution_count": 3,
   "metadata": {},
   "outputs": [],
   "source": [
    "# import prepare and pandas module\n",
    "from prepare import Prepare\n",
    "import pandas as pd\n",
    "\n",
    "# instaniate Prepare class and prep data\n",
    "# This step preps converts train, val, and test into X and y machine learning.\n",
    "p = Prepare()\n",
    "(X_train, y_train), (X_val, y_val), (X_test, y_test) = p.get_Xy(train, validate, test)\n",
    "\n",
    "# This step scales the data for easier use by the algorithm\n",
    "X_train_scaled, X_val_scaled, X_test_scaled, _ = p.scaling(X_train, X_val, X_test)"
   ]
  },
  {
   "cell_type": "code",
   "execution_count": null,
   "metadata": {},
   "outputs": [],
   "source": []
  }
 ],
 "metadata": {
  "interpreter": {
   "hash": "40d3a090f54c6569ab1632332b64b2c03c39dcf918b08424e98f38b5ae0af88f"
  },
  "kernelspec": {
   "display_name": "Python 3.8.11 64-bit ('base': conda)",
   "language": "python",
   "name": "python3"
  },
  "language_info": {
   "codemirror_mode": {
    "name": "ipython",
    "version": 3
   },
   "file_extension": ".py",
   "mimetype": "text/x-python",
   "name": "python",
   "nbconvert_exporter": "python",
   "pygments_lexer": "ipython3",
   "version": "3.8.11"
  },
  "orig_nbformat": 4
 },
 "nbformat": 4,
 "nbformat_minor": 2
}
