{
 "cells": [
  {
   "cell_type": "code",
   "execution_count": 1,
   "metadata": {},
   "outputs": [],
   "source": [
    "from scipy.stats import pearsonr\n",
    "from wrangle import Wrangle\n",
    "from prepare import Prepare\n",
    "import pandas as pd"
   ]
  },
  {
   "cell_type": "code",
   "execution_count": 2,
   "metadata": {},
   "outputs": [
    {
     "data": {
      "text/html": [
       "<div>\n",
       "<style scoped>\n",
       "    .dataframe tbody tr th:only-of-type {\n",
       "        vertical-align: middle;\n",
       "    }\n",
       "\n",
       "    .dataframe tbody tr th {\n",
       "        vertical-align: top;\n",
       "    }\n",
       "\n",
       "    .dataframe thead th {\n",
       "        text-align: right;\n",
       "    }\n",
       "</style>\n",
       "<table border=\"1\" class=\"dataframe\">\n",
       "  <thead>\n",
       "    <tr style=\"text-align: right;\">\n",
       "      <th></th>\n",
       "      <th>bedrooms</th>\n",
       "      <th>bathrooms</th>\n",
       "      <th>square_feet</th>\n",
       "      <th>home_tax_value</th>\n",
       "      <th>year_built</th>\n",
       "      <th>fips</th>\n",
       "      <th>county</th>\n",
       "    </tr>\n",
       "  </thead>\n",
       "  <tbody>\n",
       "    <tr>\n",
       "      <th>24082</th>\n",
       "      <td>3.0</td>\n",
       "      <td>2.0</td>\n",
       "      <td>1040.0</td>\n",
       "      <td>315000.0</td>\n",
       "      <td>1971.0</td>\n",
       "      <td>6037.0</td>\n",
       "      <td>Los Angeles</td>\n",
       "    </tr>\n",
       "    <tr>\n",
       "      <th>9432</th>\n",
       "      <td>4.0</td>\n",
       "      <td>1.0</td>\n",
       "      <td>1354.0</td>\n",
       "      <td>51513.0</td>\n",
       "      <td>1947.0</td>\n",
       "      <td>6037.0</td>\n",
       "      <td>Los Angeles</td>\n",
       "    </tr>\n",
       "    <tr>\n",
       "      <th>50142</th>\n",
       "      <td>3.0</td>\n",
       "      <td>1.0</td>\n",
       "      <td>1180.0</td>\n",
       "      <td>64709.0</td>\n",
       "      <td>1949.0</td>\n",
       "      <td>6037.0</td>\n",
       "      <td>Los Angeles</td>\n",
       "    </tr>\n",
       "    <tr>\n",
       "      <th>38310</th>\n",
       "      <td>3.0</td>\n",
       "      <td>2.0</td>\n",
       "      <td>1922.0</td>\n",
       "      <td>218663.0</td>\n",
       "      <td>1952.0</td>\n",
       "      <td>6037.0</td>\n",
       "      <td>Los Angeles</td>\n",
       "    </tr>\n",
       "    <tr>\n",
       "      <th>7652</th>\n",
       "      <td>4.0</td>\n",
       "      <td>4.0</td>\n",
       "      <td>3710.0</td>\n",
       "      <td>1700000.0</td>\n",
       "      <td>1987.0</td>\n",
       "      <td>6037.0</td>\n",
       "      <td>Los Angeles</td>\n",
       "    </tr>\n",
       "  </tbody>\n",
       "</table>\n",
       "</div>"
      ],
      "text/plain": [
       "       bedrooms  bathrooms  square_feet  home_tax_value  year_built    fips  \\\n",
       "24082       3.0        2.0       1040.0        315000.0      1971.0  6037.0   \n",
       "9432        4.0        1.0       1354.0         51513.0      1947.0  6037.0   \n",
       "50142       3.0        1.0       1180.0         64709.0      1949.0  6037.0   \n",
       "38310       3.0        2.0       1922.0        218663.0      1952.0  6037.0   \n",
       "7652        4.0        4.0       3710.0       1700000.0      1987.0  6037.0   \n",
       "\n",
       "            county  \n",
       "24082  Los Angeles  \n",
       "9432   Los Angeles  \n",
       "50142  Los Angeles  \n",
       "38310  Los Angeles  \n",
       "7652   Los Angeles  "
      ]
     },
     "execution_count": 2,
     "metadata": {},
     "output_type": "execute_result"
    }
   ],
   "source": [
    "train, val, test = Wrangle().wrangle_zillow()\n",
    "train.head()"
   ]
  },
  {
   "cell_type": "code",
   "execution_count": 3,
   "metadata": {},
   "outputs": [
    {
     "data": {
      "text/plain": [
       "(0.5437256269260173, 0.0)"
      ]
     },
     "execution_count": 3,
     "metadata": {},
     "output_type": "execute_result"
    }
   ],
   "source": [
    "r, pvalue = pearsonr(train[\"square_feet\"], train[\"home_tax_value\"])\n",
    "r, pvalue"
   ]
  },
  {
   "cell_type": "code",
   "execution_count": 6,
   "metadata": {},
   "outputs": [
    {
     "data": {
      "text/plain": [
       "(0.47255605065606937, 0.0)"
      ]
     },
     "execution_count": 6,
     "metadata": {},
     "output_type": "execute_result"
    }
   ],
   "source": [
    "r, pvalue = pearsonr(train[\"bathrooms\"], train[\"home_tax_value\"])\n",
    "r, pvalue"
   ]
  },
  {
   "cell_type": "code",
   "execution_count": 4,
   "metadata": {},
   "outputs": [
    {
     "data": {
      "text/plain": [
       "(0.2439189643252154, 0.0)"
      ]
     },
     "execution_count": 4,
     "metadata": {},
     "output_type": "execute_result"
    }
   ],
   "source": [
    "r, pvalue = pearsonr(train[\"bedrooms\"], train[\"home_tax_value\"])\n",
    "r, pvalue"
   ]
  },
  {
   "cell_type": "code",
   "execution_count": null,
   "metadata": {},
   "outputs": [],
   "source": []
  }
 ],
 "metadata": {
  "interpreter": {
   "hash": "40d3a090f54c6569ab1632332b64b2c03c39dcf918b08424e98f38b5ae0af88f"
  },
  "kernelspec": {
   "display_name": "Python 3.8.11 64-bit ('base': conda)",
   "language": "python",
   "name": "python3"
  },
  "language_info": {
   "codemirror_mode": {
    "name": "ipython",
    "version": 3
   },
   "file_extension": ".py",
   "mimetype": "text/x-python",
   "name": "python",
   "nbconvert_exporter": "python",
   "pygments_lexer": "ipython3",
   "version": "3.8.11"
  },
  "orig_nbformat": 4
 },
 "nbformat": 4,
 "nbformat_minor": 2
}
